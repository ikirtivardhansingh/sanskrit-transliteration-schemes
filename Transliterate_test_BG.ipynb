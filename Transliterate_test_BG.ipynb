{
  "nbformat": 4,
  "nbformat_minor": 0,
  "metadata": {
    "colab": {
      "name": "Transliterate_test-BG",
      "provenance": [],
      "collapsed_sections": [],
      "include_colab_link": true
    },
    "kernelspec": {
      "name": "python3",
      "display_name": "Python 3"
    }
  },
  "cells": [
    {
      "cell_type": "markdown",
      "metadata": {
        "id": "view-in-github",
        "colab_type": "text"
      },
      "source": [
        "<a href=\"https://colab.research.google.com/github/ikirtivardhansingh/sanskrit_transliteration_schemes/blob/master/Transliterate_test_BG.ipynb\" target=\"_parent\"><img src=\"https://colab.research.google.com/assets/colab-badge.svg\" alt=\"Open In Colab\"/></a>"
      ]
    },
    {
      "cell_type": "markdown",
      "metadata": {
        "id": "NNLm2QRNtB5k"
      },
      "source": [
        "# BG Sanskrit Text Generation through Roman Scheme?\n",
        "Here we are using Bhagwad Gita for transliteration test. We are using Roman as the base scheme to add Devanagari scheme. I am using indic-transliteration library to extract Devanagari Text. \n",
        "\n",
        "\n",
        "\n",
        "\n"
      ]
    },
    {
      "cell_type": "code",
      "metadata": {
        "id": "oJKDbLa3u4wO",
        "outputId": "76e9c738-79b5-40fd-e078-7e12fb811e01",
        "colab": {
          "base_uri": "https://localhost:8080/",
          "height": 255
        }
      },
      "source": [
        "# Install library \n",
        "!pip install indic-transliteration"
      ],
      "execution_count": 11,
      "outputs": [
        {
          "output_type": "stream",
          "text": [
            "Collecting indic-transliteration\n",
            "\u001b[?25l  Downloading https://files.pythonhosted.org/packages/aa/05/faeb66736efd09ba25ac8412887000a97907a451736d3b0cee84fcd1b989/indic_transliteration-1.9.9-py3-none-any.whl (97kB)\n",
            "\u001b[K     |████████████████████████████████| 102kB 2.5MB/s \n",
            "\u001b[?25hCollecting selenium\n",
            "\u001b[?25l  Downloading https://files.pythonhosted.org/packages/80/d6/4294f0b4bce4de0abf13e17190289f9d0613b0a44e5dd6a7f5ca98459853/selenium-3.141.0-py2.py3-none-any.whl (904kB)\n",
            "\u001b[K     |████████████████████████████████| 911kB 8.4MB/s \n",
            "\u001b[?25hRequirement already satisfied: regex in /usr/local/lib/python3.6/dist-packages (from indic-transliteration) (2019.12.20)\n",
            "Collecting backports.functools-lru-cache\n",
            "  Downloading https://files.pythonhosted.org/packages/da/d1/080d2bb13773803648281a49e3918f65b31b7beebf009887a529357fd44a/backports.functools_lru_cache-1.6.1-py2.py3-none-any.whl\n",
            "Requirement already satisfied: urllib3 in /usr/local/lib/python3.6/dist-packages (from selenium->indic-transliteration) (1.24.3)\n",
            "Installing collected packages: selenium, backports.functools-lru-cache, indic-transliteration\n",
            "Successfully installed backports.functools-lru-cache-1.6.1 indic-transliteration-1.9.9 selenium-3.141.0\n"
          ],
          "name": "stdout"
        }
      ]
    },
    {
      "cell_type": "code",
      "metadata": {
        "id": "pThD0RXZL-LR",
        "outputId": "d27b3366-d6c4-41a9-fcad-e99b3263a388",
        "colab": {
          "base_uri": "https://localhost:8080/",
          "height": 35
        }
      },
      "source": [
        "from google.colab import drive\n",
        "drive.mount('/content/drive')"
      ],
      "execution_count": 93,
      "outputs": [
        {
          "output_type": "stream",
          "text": [
            "Drive already mounted at /content/drive; to attempt to forcibly remount, call drive.mount(\"/content/drive\", force_remount=True).\n"
          ],
          "name": "stdout"
        }
      ]
    },
    {
      "cell_type": "code",
      "metadata": {
        "id": "XQz-WI5Yu5_V"
      },
      "source": [
        "# How to use it?\n",
        "from indic_transliteration import sanscript\n",
        "from indic_transliteration.sanscript import SchemeMap, SCHEMES, transliterate\n",
        "# What all schemes are available?\n",
        "# (1) sanscript.ITRANS (2) sanscript.DEVANAGARI (3) sanscript.VELTHUIS \n",
        "# (4) sanscript.SLP1 (5) sanscript.IAST (6) sanscript.WX (7) sanscript.HK"
      ],
      "execution_count": 94,
      "outputs": []
    },
    {
      "cell_type": "code",
      "metadata": {
        "id": "2Ya_BryDt8a4",
        "outputId": "02cb17dc-8e0e-4969-b085-bb674a206736",
        "colab": {
          "base_uri": "https://localhost:8080/",
          "height": 95
        }
      },
      "source": [
        "import pandas as pd \n",
        "# Read data from file 'transliteration.csv' ->   https://drive.google.com/file/d/15NMXLweieAgNnmqN4mPuR9MGJ4ijz0_S/view?usp=sharing \n",
        "bg = pd.read_csv(\"/content/Gitaoriginal.csv\") \n",
        "# Preview the lodaded data \n",
        "bg.head(1)"
      ],
      "execution_count": 96,
      "outputs": [
        {
          "output_type": "execute_result",
          "data": {
            "text/html": [
              "<div>\n",
              "<style scoped>\n",
              "    .dataframe tbody tr th:only-of-type {\n",
              "        vertical-align: middle;\n",
              "    }\n",
              "\n",
              "    .dataframe tbody tr th {\n",
              "        vertical-align: top;\n",
              "    }\n",
              "\n",
              "    .dataframe thead th {\n",
              "        text-align: right;\n",
              "    }\n",
              "</style>\n",
              "<table border=\"1\" class=\"dataframe\">\n",
              "  <thead>\n",
              "    <tr style=\"text-align: right;\">\n",
              "      <th></th>\n",
              "      <th>verse_no</th>\n",
              "      <th>segmented_verse</th>\n",
              "      <th>word2word</th>\n",
              "      <th>translation</th>\n",
              "      <th>purport</th>\n",
              "    </tr>\n",
              "  </thead>\n",
              "  <tbody>\n",
              "    <tr>\n",
              "      <th>0</th>\n",
              "      <td>1.1</td>\n",
              "      <td>dhṛtarāṣṭraḥ uvāca dharma-kṣetre kuru-kṣetre s...</td>\n",
              "      <td>dhṛtarāṣṭraḥ uvāca — King Dhṛtarāṣṭra said; dh...</td>\n",
              "      <td>Dhṛtarāṣṭra said: O Sañjaya, after my sons and...</td>\n",
              "      <td>is the widely read theistic science summarize...</td>\n",
              "    </tr>\n",
              "  </tbody>\n",
              "</table>\n",
              "</div>"
            ],
            "text/plain": [
              "  verse_no  ...                                            purport\n",
              "0      1.1  ...   is the widely read theistic science summarize...\n",
              "\n",
              "[1 rows x 5 columns]"
            ]
          },
          "metadata": {
            "tags": []
          },
          "execution_count": 96
        }
      ]
    },
    {
      "cell_type": "code",
      "metadata": {
        "id": "4B2FUhOKEtg_",
        "outputId": "1cc997f8-5576-40c1-fe65-69e87dd4fa3c",
        "colab": {
          "base_uri": "https://localhost:8080/",
          "height": 78
        }
      },
      "source": [
        "bg.drop('word2word', inplace=True, axis=1)\n",
        "bg.drop('purport', inplace=True, axis=1)\n",
        "bg.head(1)"
      ],
      "execution_count": 97,
      "outputs": [
        {
          "output_type": "execute_result",
          "data": {
            "text/html": [
              "<div>\n",
              "<style scoped>\n",
              "    .dataframe tbody tr th:only-of-type {\n",
              "        vertical-align: middle;\n",
              "    }\n",
              "\n",
              "    .dataframe tbody tr th {\n",
              "        vertical-align: top;\n",
              "    }\n",
              "\n",
              "    .dataframe thead th {\n",
              "        text-align: right;\n",
              "    }\n",
              "</style>\n",
              "<table border=\"1\" class=\"dataframe\">\n",
              "  <thead>\n",
              "    <tr style=\"text-align: right;\">\n",
              "      <th></th>\n",
              "      <th>verse_no</th>\n",
              "      <th>segmented_verse</th>\n",
              "      <th>translation</th>\n",
              "    </tr>\n",
              "  </thead>\n",
              "  <tbody>\n",
              "    <tr>\n",
              "      <th>0</th>\n",
              "      <td>1.1</td>\n",
              "      <td>dhṛtarāṣṭraḥ uvāca dharma-kṣetre kuru-kṣetre s...</td>\n",
              "      <td>Dhṛtarāṣṭra said: O Sañjaya, after my sons and...</td>\n",
              "    </tr>\n",
              "  </tbody>\n",
              "</table>\n",
              "</div>"
            ],
            "text/plain": [
              "  verse_no  ...                                        translation\n",
              "0      1.1  ...  Dhṛtarāṣṭra said: O Sañjaya, after my sons and...\n",
              "\n",
              "[1 rows x 3 columns]"
            ]
          },
          "metadata": {
            "tags": []
          },
          "execution_count": 97
        }
      ]
    },
    {
      "cell_type": "markdown",
      "metadata": {
        "id": "it9SW_L_F-lN"
      },
      "source": [
        "## Testing "
      ]
    },
    {
      "cell_type": "code",
      "metadata": {
        "id": "Sb_BsrPOQxB6"
      },
      "source": [
        "#Passing attributes from csv file to list\n",
        "segmented_verse_lst = bg.segmented_verse.to_list()\n",
        "translation_lst = bg.translation.to_list()\n",
        "devanagari_lst = list()"
      ],
      "execution_count": 98,
      "outputs": []
    },
    {
      "cell_type": "code",
      "metadata": {
        "id": "PZheNT-EF4Ig"
      },
      "source": [
        "for x in range(len(segmented_verse_lst)):\n",
        "   text = transliterate(segmented_verse_lst[x], sanscript.IAST, sanscript.DEVANAGARI)\n",
        "   devanagari_lst.append(text) "
      ],
      "execution_count": 99,
      "outputs": []
    },
    {
      "cell_type": "code",
      "metadata": {
        "id": "BwkaTpUGHga7",
        "outputId": "97444671-7e05-41f3-dd34-5774382dfd33",
        "colab": {
          "base_uri": "https://localhost:8080/",
          "height": 199
        }
      },
      "source": [
        "for x in range(5):\n",
        " print(\"Input    -> \", segmented_verse_lst[x])\n",
        " print(\"Output   -> \", devanagari_lst[x])"
      ],
      "execution_count": 104,
      "outputs": [
        {
          "output_type": "stream",
          "text": [
            "Input    ->  dhṛtarāṣṭraḥ uvāca dharma-kṣetre kuru-kṣetre samavetāḥ yuyutsavaḥ māmakāḥ pāṇḍavāḥ ca eva kim akurvata sañjaya\n",
            "Output   ->  धृतराष्ट्रः उवाच धर्म-क्षेत्रे कुरु-क्षेत्रे समवेताः युयुत्सवः मामकाः पाण्डवाः च एव किम् अकुर्वत सञ्जय\n",
            "Input    ->  sañjayaḥ uvāca dṛṣṭvā tu pāṇḍava-anīkam vyūḍham duryodhanaḥ tadā ācāryam upasaṅgamya rājā vacanam abravīt\n",
            "Output   ->  सञ्जयः उवाच दृष्ट्वा तु पाण्डव-अनीकम् व्यूढम् दुर्योधनः तदा आचार्यम् उपसङ्गम्य राजा वचनम् अब्रवीत्\n",
            "Input    ->  paśya etām pāṇḍu-putrānām ācārya mahatīm camūm vyūḍhām drupada-putreṇa tava śiṣyeṇa dhī-matā\n",
            "Output   ->  पश्य एताम् पाण्डु-पुत्रानाम् आचार्य महतीम् चमूम् व्यूढाम् द्रुपद-पुत्रेण तव शिष्येण धी-मता\n",
            "Input    ->  atra śūrāḥ mahā-iṣu-āsāḥ bhīma-arjuna samāḥ yudhi yuyudhānaḥ virāṭaḥ ca drupadaḥ ca mahā-rathaḥ\n",
            "Output   ->  अत्र शूराः महा-इषु-आसाः भीम-अर्जुन समाः युधि युयुधानः विराटः च द्रुपदः च महा-रथः\n",
            "Input    ->  dhṛṣṭaketuḥ cekitānaḥ kāśirājaḥ ca vīrya-vān purujit kuntibhojaḥ ca śaibyaḥ ca nara-puṅgavaḥ\n",
            "Output   ->  धृष्टकेतुः चेकितानः काशिराजः च वीर्य-वान् पुरुजित् कुन्तिभोजः च शैब्यः च नर-पुङ्गवः\n"
          ],
          "name": "stdout"
        }
      ]
    },
    {
      "cell_type": "code",
      "metadata": {
        "id": "IFz5yZ3nOMYp",
        "outputId": "e43e9b0e-661f-43d5-8e3f-c302081f448a",
        "colab": {
          "base_uri": "https://localhost:8080/",
          "height": 78
        }
      },
      "source": [
        " bg[\"Devanagari\"] = devanagari_lst\n",
        "bg.head(1)"
      ],
      "execution_count": 101,
      "outputs": [
        {
          "output_type": "execute_result",
          "data": {
            "text/html": [
              "<div>\n",
              "<style scoped>\n",
              "    .dataframe tbody tr th:only-of-type {\n",
              "        vertical-align: middle;\n",
              "    }\n",
              "\n",
              "    .dataframe tbody tr th {\n",
              "        vertical-align: top;\n",
              "    }\n",
              "\n",
              "    .dataframe thead th {\n",
              "        text-align: right;\n",
              "    }\n",
              "</style>\n",
              "<table border=\"1\" class=\"dataframe\">\n",
              "  <thead>\n",
              "    <tr style=\"text-align: right;\">\n",
              "      <th></th>\n",
              "      <th>verse_no</th>\n",
              "      <th>segmented_verse</th>\n",
              "      <th>translation</th>\n",
              "      <th>Devanagari</th>\n",
              "    </tr>\n",
              "  </thead>\n",
              "  <tbody>\n",
              "    <tr>\n",
              "      <th>0</th>\n",
              "      <td>1.1</td>\n",
              "      <td>dhṛtarāṣṭraḥ uvāca dharma-kṣetre kuru-kṣetre s...</td>\n",
              "      <td>Dhṛtarāṣṭra said: O Sañjaya, after my sons and...</td>\n",
              "      <td>धृतराष्ट्रः उवाच धर्म-क्षेत्रे कुरु-क्षेत्रे स...</td>\n",
              "    </tr>\n",
              "  </tbody>\n",
              "</table>\n",
              "</div>"
            ],
            "text/plain": [
              "  verse_no  ...                                         Devanagari\n",
              "0      1.1  ...  धृतराष्ट्रः उवाच धर्म-क्षेत्रे कुरु-क्षेत्रे स...\n",
              "\n",
              "[1 rows x 4 columns]"
            ]
          },
          "metadata": {
            "tags": []
          },
          "execution_count": 101
        }
      ]
    },
    {
      "cell_type": "code",
      "metadata": {
        "id": "zoqaBiMtDfeX"
      },
      "source": [
        "bg.to_csv(\"BG_complete\")"
      ],
      "execution_count": 102,
      "outputs": []
    },
    {
      "cell_type": "markdown",
      "metadata": {
        "id": "M9ydA11vBkJ8"
      },
      "source": [
        "###Difference Between ISO and IAST MAY CAUSE SOME ERRORS\n",
        "DEVANAGARI | ISO | IAST\n",
        "-----------|-----|-----\n",
        "ऋ |r̥|\tṛ\n",
        "ॠ|\tr̥̄|\tṝ\n",
        "ऌ|\tl̥|\tḷ\n",
        "ए\t|ē\t|e\n",
        "ऐ\t|ai|\tai\n",
        "ओ|\tō\t|o\n",
        "ं\t|ṁ\t|ṃ"
      ]
    },
    {
      "cell_type": "code",
      "metadata": {
        "id": "czGKgBkZDEim"
      },
      "source": [
        ""
      ],
      "execution_count": null,
      "outputs": []
    }
  ]
}